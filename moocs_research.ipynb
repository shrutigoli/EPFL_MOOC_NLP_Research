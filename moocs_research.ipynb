{
 "cells": [
  {
   "cell_type": "code",
   "execution_count": 1,
   "metadata": {
    "collapsed": true
   },
   "outputs": [],
   "source": [
    "import glob\n"
   ]
  },
  {
   "cell_type": "markdown",
   "metadata": {},
   "source": [
    "Below I am parsing through all the directories/subdirectories/files and filtering only the files with english subtitles \n"
   ]
  },
  {
   "cell_type": "code",
   "execution_count": 2,
   "metadata": {
    "collapsed": false
   },
   "outputs": [],
   "source": [
    "import os\n",
    "fileslist = []\n",
    "for root, dirs, files in os.walk(\".\"):\n",
    "    for d in dirs:\n",
    "        fileslist.append(os.path.relpath(os.path.join(root, d), \".\"))\n",
    "    for f in files:\n",
    "        fileslist.append(os.path.relpath(os.path.join(root, f), \".\"))\n",
    "\n",
    "fileslist2 = [k for k in fileslist if 'en.srt' in k]\n",
    "\n",
    "#print(fileslist2)\n",
    "#filename_df = pd.DataFrame(fileslist2, columns = ['file_names'])\n",
    "#filename_df.head(20)"
   ]
  },
  {
   "cell_type": "markdown",
   "metadata": {},
   "source": [
    "Creating a new directory to save the english subtitles into txt "
   ]
  },
  {
   "cell_type": "code",
   "execution_count": 3,
   "metadata": {
    "collapsed": false
   },
   "outputs": [
    {
     "name": "stdout",
     "output_type": "stream",
     "text": [
      "Creation of the directory /Users/shrutigoli/EPFL_MOOC_NLP_Research/updated_dataset_epfl failed\n"
     ]
    }
   ],
   "source": [
    "#print(os.getcwd()) \n",
    "path = \"/Users/shrutigoli/EPFL_MOOC_NLP_Research/updated_dataset_epfl\"\n",
    "try:  \n",
    "    os.mkdir(path)\n",
    "except OSError:  \n",
    "    print (\"Creation of the directory %s failed\" % path)\n",
    "else:  \n",
    "    print (\"Successfully created the directory %s \" % path)   "
   ]
  },
  {
   "cell_type": "code",
   "execution_count": 4,
   "metadata": {
    "collapsed": true
   },
   "outputs": [],
   "source": [
    "#os.chdir(path)\n"
   ]
  },
  {
   "cell_type": "code",
   "execution_count": 5,
   "metadata": {
    "collapsed": false
   },
   "outputs": [
    {
     "data": {
      "text/plain": [
       "['dataset_epfl/Area/English/W01/1.0_VOen.srt',\n",
       " 'dataset_epfl/Area/English/W01/1.1_VOen.srt',\n",
       " 'dataset_epfl/Area/English/W01/1.7_VOen.srt',\n",
       " 'dataset_epfl/Area/English/W01/1.6_VOen.srt',\n",
       " 'dataset_epfl/Area/English/W01/1.8_VOen.srt',\n",
       " 'dataset_epfl/Area/English/W01/1.3_VOen.srt',\n",
       " 'dataset_epfl/Area/English/W01/1.2_VOen.srt',\n",
       " 'dataset_epfl/Area/English/W01/1.4_VOen.srt',\n",
       " 'dataset_epfl/Area/English/W01/1.5_VOen.srt',\n",
       " 'dataset_epfl/Area/English/W01/Trailer_VOen.srt']"
      ]
     },
     "execution_count": 5,
     "metadata": {},
     "output_type": "execute_result"
    }
   ],
   "source": [
    "DATASET_EPFL = 'dataset_epfl/Area/English/W01/'\n",
    "glob.glob(DATASET_EPFL + '*en.srt')"
   ]
  },
  {
   "cell_type": "code",
   "execution_count": 6,
   "metadata": {
    "collapsed": false
   },
   "outputs": [
    {
     "data": {
      "text/plain": [
       "['.DS_Store',\n",
       " 'dataset_epfl',\n",
       " 'moocs_research.ipynb',\n",
       " 'wiki.en',\n",
       " 'MOOC_Entrepreneurship-en.txt',\n",
       " 'updated_dataset_epfl',\n",
       " 'MOOC_Entrepreneurship-en.srt',\n",
       " 'Convert_Data_to_Txt',\n",
       " 'README.md',\n",
       " 'convert_subtitles.ipynb',\n",
       " '.ipynb_checkpoints',\n",
       " 'srt_to_text.py',\n",
       " 'chromedriver',\n",
       " 'Ex_Files_NLP_Python_ML_EssT',\n",
       " '.git']"
      ]
     },
     "execution_count": 6,
     "metadata": {},
     "output_type": "execute_result"
    }
   ],
   "source": [
    "\n",
    "os.listdir()\n",
    "\n",
    "#DATASET_EPFL = 'dataset_epfl*/^[a-z0-9._]+$/i*'\n",
    "#glob.glob(DATASET_EPFL + '*en.srt')"
   ]
  },
  {
   "cell_type": "markdown",
   "metadata": {},
   "source": [
    "Found an srt_to_txt python script that can be found here: https://gist.github.com/ndunn219/62263ce1fb59fda08656be7369ce329b"
   ]
  },
  {
   "cell_type": "code",
   "execution_count": 8,
   "metadata": {
    "collapsed": false
   },
   "outputs": [
    {
     "ename": "FileNotFoundError",
     "evalue": "[Errno 2] No such file or directory: '-f'",
     "output_type": "error",
     "traceback": [
      "\u001b[0;31m---------------------------------------------------------------------------\u001b[0m",
      "\u001b[0;31mFileNotFoundError\u001b[0m                         Traceback (most recent call last)",
      "\u001b[0;32m<ipython-input-8-ddfffff9ea53>\u001b[0m in \u001b[0;36m<module>\u001b[0;34m()\u001b[0m\n\u001b[1;32m     71\u001b[0m \u001b[0;34m\u001b[0m\u001b[0m\n\u001b[1;32m     72\u001b[0m \u001b[0;32mif\u001b[0m \u001b[0m__name__\u001b[0m \u001b[0;34m==\u001b[0m \u001b[0;34m'__main__'\u001b[0m\u001b[0;34m:\u001b[0m\u001b[0;34m\u001b[0m\u001b[0m\n\u001b[0;32m---> 73\u001b[0;31m   \u001b[0mmain\u001b[0m\u001b[0;34m(\u001b[0m\u001b[0msys\u001b[0m\u001b[0;34m.\u001b[0m\u001b[0margv\u001b[0m\u001b[0;34m)\u001b[0m\u001b[0;34m\u001b[0m\u001b[0m\n\u001b[0m\u001b[1;32m     74\u001b[0m \u001b[0;34m\u001b[0m\u001b[0m\n\u001b[1;32m     75\u001b[0m \"\"\"\n",
      "\u001b[0;32m<ipython-input-8-ddfffff9ea53>\u001b[0m in \u001b[0;36mmain\u001b[0;34m(args)\u001b[0m\n\u001b[1;32m     62\u001b[0m   \u001b[0mfile_name\u001b[0m \u001b[0;34m=\u001b[0m \u001b[0margs\u001b[0m\u001b[0;34m[\u001b[0m\u001b[0;36m1\u001b[0m\u001b[0;34m]\u001b[0m\u001b[0;34m\u001b[0m\u001b[0m\n\u001b[1;32m     63\u001b[0m   \u001b[0mfile_encoding\u001b[0m \u001b[0;34m=\u001b[0m \u001b[0;34m'utf-8'\u001b[0m \u001b[0;32mif\u001b[0m \u001b[0mlen\u001b[0m\u001b[0;34m(\u001b[0m\u001b[0margs\u001b[0m\u001b[0;34m)\u001b[0m \u001b[0;34m<\u001b[0m \u001b[0;36m3\u001b[0m \u001b[0;32melse\u001b[0m \u001b[0margs\u001b[0m\u001b[0;34m[\u001b[0m\u001b[0;36m2\u001b[0m\u001b[0;34m]\u001b[0m\u001b[0;34m\u001b[0m\u001b[0m\n\u001b[0;32m---> 64\u001b[0;31m   \u001b[0;32mwith\u001b[0m \u001b[0mopen\u001b[0m\u001b[0;34m(\u001b[0m\u001b[0mfile_name\u001b[0m\u001b[0;34m,\u001b[0m \u001b[0mencoding\u001b[0m\u001b[0;34m=\u001b[0m\u001b[0mfile_encoding\u001b[0m\u001b[0;34m,\u001b[0m \u001b[0merrors\u001b[0m\u001b[0;34m=\u001b[0m\u001b[0;34m'replace'\u001b[0m\u001b[0;34m)\u001b[0m \u001b[0;32mas\u001b[0m \u001b[0mf\u001b[0m\u001b[0;34m:\u001b[0m\u001b[0;34m\u001b[0m\u001b[0m\n\u001b[0m\u001b[1;32m     65\u001b[0m     \u001b[0mlines\u001b[0m \u001b[0;34m=\u001b[0m \u001b[0mf\u001b[0m\u001b[0;34m.\u001b[0m\u001b[0mreadlines\u001b[0m\u001b[0;34m(\u001b[0m\u001b[0;34m)\u001b[0m\u001b[0;34m\u001b[0m\u001b[0m\n\u001b[1;32m     66\u001b[0m     \u001b[0mnew_lines\u001b[0m \u001b[0;34m=\u001b[0m \u001b[0mclean_up\u001b[0m\u001b[0;34m(\u001b[0m\u001b[0mlines\u001b[0m\u001b[0;34m)\u001b[0m\u001b[0;34m\u001b[0m\u001b[0m\n",
      "\u001b[0;31mFileNotFoundError\u001b[0m: [Errno 2] No such file or directory: '-f'"
     ]
    }
   ],
   "source": [
    "# %load srt_to_txt.py\n",
    "\"\"\"\n",
    "Creates readable text file from SRT file.\n",
    "\"\"\"\n",
    "import re, sys\n",
    "\n",
    "def is_time_stamp(l):\n",
    "  if l[:2].isnumeric() and l[2] == ':':\n",
    "    return True\n",
    "  return False\n",
    "\n",
    "def has_letters(line):\n",
    "  if re.search('[a-zA-Z]', line):\n",
    "    return True\n",
    "  return False\n",
    "\n",
    "def has_no_text(line):\n",
    "  l = line.strip()\n",
    "  if not len(l):\n",
    "    return True\n",
    "  if l.isnumeric():\n",
    "    return True\n",
    "  if is_time_stamp(l):\n",
    "    return True\n",
    "  if l[0] == '(' and l[-1] == ')':\n",
    "    return True\n",
    "  if not has_letters(line):\n",
    "    return True\n",
    "  return False\n",
    "\n",
    "def is_lowercase_letter_or_comma(letter):\n",
    "  if letter.isalpha() and letter.lower() == letter:\n",
    "    return True\n",
    "  if letter == ',':\n",
    "    return True\n",
    "  return False\n",
    "\n",
    "def clean_up(lines):\n",
    "  \"\"\"\n",
    "  Get rid of all non-text lines and\n",
    "  try to combine text broken into multiple lines\n",
    "  \"\"\"\n",
    "  new_lines = []\n",
    "  for line in lines[1:]:\n",
    "    if has_no_text(line):\n",
    "      continue\n",
    "    elif len(new_lines) and is_lowercase_letter_or_comma(line[0]):\n",
    "      #combine with previous line\n",
    "      new_lines[-1] = new_lines[-1].strip() + ' ' + line\n",
    "    else:\n",
    "      #append line\n",
    "      new_lines.append(line)\n",
    "  return new_lines\n",
    "\n",
    "def main(args):\n",
    "  \"\"\"\n",
    "    args[1]: file name\n",
    "    args[2]: encoding. Default: utf-8.\n",
    "      - If you get a lot of [?]s replacing characters,\n",
    "      - you probably need to change file_encoding to 'cp1252'\n",
    "  \"\"\"\n",
    "  file_name = args[1]\n",
    "  file_encoding = 'utf-8' if len(args) < 3 else args[2]\n",
    "  with open(file_name, encoding=file_encoding, errors='replace') as f:\n",
    "    lines = f.readlines()\n",
    "    new_lines = clean_up(lines)\n",
    "  new_file_name = file_name[:-4] + '.txt'\n",
    "  with open(new_file_name, 'w') as f:\n",
    "    for line in new_lines:\n",
    "      f.write(line)\n",
    "\n",
    "if __name__ == '__main__':\n",
    "  main(sys.argv)\n",
    "\n",
    "\"\"\"\n",
    "NOTES\n",
    " * Run from command line as\n",
    " ** python srt_to_txt.py file_name.srt cp1252\n",
    " * Creates file_name.txt with extracted text from file_name.srt \n",
    "\n",
    " * Script assumes that lines beginning with lowercase letters or commas \n",
    " * are part of the previous line and lines beginning with any other character\n",
    " * are new lines. This won't always be correct. \n",
    "\"\"\""
   ]
  },
  {
   "cell_type": "code",
   "execution_count": 9,
   "metadata": {
    "collapsed": false
   },
   "outputs": [
    {
     "name": "stdout",
     "output_type": "stream",
     "text": [
      "dataset_epfl/Sludge/ORDER_03/4.2Assessment_of_the_Initial_situation_-_MOOC_SLUDGE-en.srt\n",
      "/dataset_epfl/Sludge/ORDER_03/4.2Assessment_of_the_Initial_situation_-_MOOC_SLUDGE-en.srt\n"
     ]
    }
   ],
   "source": [
    "print(fileslist2[37])\n",
    "file = fileslist2[37]\n",
    "sys.argv[1] = '/' + file\n",
    "print (sys.argv[1])"
   ]
  },
  {
   "cell_type": "code",
   "execution_count": 10,
   "metadata": {
    "collapsed": false
   },
   "outputs": [
    {
     "name": "stdout",
     "output_type": "stream",
     "text": [
      "python: can't open file 'srt_to_txt.py': [Errno 2] No such file or directory\r\n"
     ]
    }
   ],
   "source": [
    "#os.chdir(path)\n",
    "#for i in fileslist2:\n",
    "!python srt_to_txt.py /MOOCSLUDGEORDER06-en.srt cp1252"
   ]
  },
  {
   "cell_type": "code",
   "execution_count": 11,
   "metadata": {
    "collapsed": false
   },
   "outputs": [
    {
     "name": "stdout",
     "output_type": "stream",
     "text": [
      "python: can't open file 'srt_to_txt.py': [Errno 2] No such file or directory\r\n"
     ]
    }
   ],
   "source": [
    "!python srt_to_txt.py MOOC_Entrepreneurship-en.srt cp1252"
   ]
  },
  {
   "cell_type": "markdown",
   "metadata": {},
   "source": [
    "the .srt file has been converted to .txt and can now be cleaned up"
   ]
  },
  {
   "cell_type": "code",
   "execution_count": 12,
   "metadata": {
    "collapsed": false
   },
   "outputs": [
    {
     "data": {
      "text/plain": [
       "['.DS_Store',\n",
       " 'dataset_epfl',\n",
       " 'moocs_research.ipynb',\n",
       " 'wiki.en',\n",
       " 'MOOC_Entrepreneurship-en.txt',\n",
       " 'Untitled.ipynb',\n",
       " 'updated_dataset_epfl',\n",
       " 'MOOC_Entrepreneurship-en.srt',\n",
       " 'Convert_Data_to_Txt',\n",
       " 'README.md',\n",
       " 'convert_subtitles.ipynb',\n",
       " '.ipynb_checkpoints',\n",
       " 'srt_to_text.py',\n",
       " 'chromedriver',\n",
       " 'Ex_Files_NLP_Python_ML_EssT',\n",
       " '.git']"
      ]
     },
     "execution_count": 12,
     "metadata": {},
     "output_type": "execute_result"
    }
   ],
   "source": [
    "os.listdir()\n"
   ]
  },
  {
   "cell_type": "markdown",
   "metadata": {},
   "source": [
    "Now that the file is converted into txt, we have to remove stopwords/lemmatize and clean up"
   ]
  },
  {
   "cell_type": "code",
   "execution_count": 13,
   "metadata": {
    "collapsed": false
   },
   "outputs": [],
   "source": [
    "import pandas as pd\n",
    "import re\n",
    "import string\n",
    "import nltk \n",
    "ps = nltk.PorterStemmer()"
   ]
  },
  {
   "cell_type": "markdown",
   "metadata": {},
   "source": [
    "Saving text into dataframe"
   ]
  },
  {
   "cell_type": "code",
   "execution_count": 14,
   "metadata": {
    "collapsed": false
   },
   "outputs": [
    {
     "data": {
      "text/html": [
       "<div>\n",
       "<style scoped>\n",
       "    .dataframe tbody tr th:only-of-type {\n",
       "        vertical-align: middle;\n",
       "    }\n",
       "\n",
       "    .dataframe tbody tr th {\n",
       "        vertical-align: top;\n",
       "    }\n",
       "\n",
       "    .dataframe thead th {\n",
       "        text-align: right;\n",
       "    }\n",
       "</style>\n",
       "<table border=\"1\" class=\"dataframe\">\n",
       "  <thead>\n",
       "    <tr style=\"text-align: right;\">\n",
       "      <th></th>\n",
       "      <th>body_text</th>\n",
       "    </tr>\n",
       "  </thead>\n",
       "  <tbody>\n",
       "    <tr>\n",
       "      <th>0</th>\n",
       "      <td>Yeah really.</td>\n",
       "    </tr>\n",
       "    <tr>\n",
       "      <th>1</th>\n",
       "      <td>Oh look who's there,</td>\n",
       "    </tr>\n",
       "    <tr>\n",
       "      <th>2</th>\n",
       "      <td>I think it's MOOC time again.</td>\n",
       "    </tr>\n",
       "    <tr>\n",
       "      <th>3</th>\n",
       "      <td>Due to the popularity of the course, we thought it would be a good idea to do a re-run.</td>\n",
       "    </tr>\n",
       "    <tr>\n",
       "      <th>4</th>\n",
       "      <td>That's right this five weeks course is gonna cover topics ranging from identifying and evaluatin...</td>\n",
       "    </tr>\n",
       "  </tbody>\n",
       "</table>\n",
       "</div>"
      ],
      "text/plain": [
       "                                                                                             body_text\n",
       "0                                                                                         Yeah really.\n",
       "1                                                                                 Oh look who's there,\n",
       "2                                                                        I think it's MOOC time again.\n",
       "3              Due to the popularity of the course, we thought it would be a good idea to do a re-run.\n",
       "4  That's right this five weeks course is gonna cover topics ranging from identifying and evaluatin..."
      ]
     },
     "execution_count": 14,
     "metadata": {},
     "output_type": "execute_result"
    }
   ],
   "source": [
    "pd.set_option('display.max_colwidth', 100)\n",
    "\n",
    "stopwords = nltk.corpus.stopwords.words('english')\n",
    "\n",
    "data=pd.read_csv(\"MOOC_Entrepreneurship-en.txt\",delimiter=\"\\t\")\n",
    "data.columns = ['body_text']\n",
    "\n",
    "data.head()\n",
    "\n"
   ]
  },
  {
   "cell_type": "markdown",
   "metadata": {},
   "source": [
    "Cleaning up the words"
   ]
  },
  {
   "cell_type": "code",
   "execution_count": 15,
   "metadata": {
    "collapsed": false
   },
   "outputs": [
    {
     "data": {
      "text/html": [
       "<div>\n",
       "<style scoped>\n",
       "    .dataframe tbody tr th:only-of-type {\n",
       "        vertical-align: middle;\n",
       "    }\n",
       "\n",
       "    .dataframe tbody tr th {\n",
       "        vertical-align: top;\n",
       "    }\n",
       "\n",
       "    .dataframe thead th {\n",
       "        text-align: right;\n",
       "    }\n",
       "</style>\n",
       "<table border=\"1\" class=\"dataframe\">\n",
       "  <thead>\n",
       "    <tr style=\"text-align: right;\">\n",
       "      <th></th>\n",
       "      <th>body_text</th>\n",
       "      <th>body_text_nostop</th>\n",
       "    </tr>\n",
       "  </thead>\n",
       "  <tbody>\n",
       "    <tr>\n",
       "      <th>0</th>\n",
       "      <td>Yeah really.</td>\n",
       "      <td>[yeah, really]</td>\n",
       "    </tr>\n",
       "    <tr>\n",
       "      <th>1</th>\n",
       "      <td>Oh look who's there,</td>\n",
       "      <td>[oh, look, whos]</td>\n",
       "    </tr>\n",
       "    <tr>\n",
       "      <th>2</th>\n",
       "      <td>I think it's MOOC time again.</td>\n",
       "      <td>[think, mooc, time]</td>\n",
       "    </tr>\n",
       "    <tr>\n",
       "      <th>3</th>\n",
       "      <td>Due to the popularity of the course, we thought it would be a good idea to do a re-run.</td>\n",
       "      <td>[due, popularity, course, thought, would, good, idea, rerun]</td>\n",
       "    </tr>\n",
       "    <tr>\n",
       "      <th>4</th>\n",
       "      <td>That's right this five weeks course is gonna cover topics ranging from identifying and evaluatin...</td>\n",
       "      <td>[thats, right, five, weeks, course, gonna, cover, topics, ranging, identifying, evaluating, busi...</td>\n",
       "    </tr>\n",
       "    <tr>\n",
       "      <th>5</th>\n",
       "      <td>And we will also talk about raising and managing money, value creation, value capture, profiting...</td>\n",
       "      <td>[also, talk, raising, managing, money, value, creation, value, capture, profiting, innovation, a...</td>\n",
       "    </tr>\n",
       "    <tr>\n",
       "      <th>6</th>\n",
       "      <td>That's right! This year we're going to move to a new on-demand model so you can watch the video ...</td>\n",
       "      <td>[thats, right, year, going, move, new, ondemand, model, watch, video, lectures, take, quizzes, e...</td>\n",
       "    </tr>\n",
       "    <tr>\n",
       "      <th>7</th>\n",
       "      <td>And we will be including a new set of videos from entrepreneurs</td>\n",
       "      <td>[including, new, set, videos, entrepreneurs]</td>\n",
       "    </tr>\n",
       "    <tr>\n",
       "      <th>8</th>\n",
       "      <td>That give you additional insights on the topics covered in this course</td>\n",
       "      <td>[give, additional, insights, topics, covered, course]</td>\n",
       "    </tr>\n",
       "    <tr>\n",
       "      <th>9</th>\n",
       "      <td>Plus, as an additional benefit, we are again proud to offer</td>\n",
       "      <td>[plus, additional, benefit, proud, offer]</td>\n",
       "    </tr>\n",
       "    <tr>\n",
       "      <th>10</th>\n",
       "      <td>2,500 dollars in seed funding for the top 3 performers of this course.</td>\n",
       "      <td>[2500, dollars, seed, funding, top, 3, performers, course]</td>\n",
       "    </tr>\n",
       "    <tr>\n",
       "      <th>11</th>\n",
       "      <td>Join us from 16th of September 2016 for the new and improved MOOC</td>\n",
       "      <td>[join, us, 16th, september, 2016, new, improved, mooc]</td>\n",
       "    </tr>\n",
       "    <tr>\n",
       "      <th>12</th>\n",
       "      <td>Launching New Ventures</td>\n",
       "      <td>[launching, new, ventures]</td>\n",
       "    </tr>\n",
       "    <tr>\n",
       "      <th>13</th>\n",
       "      <td>Hey, speaking of new and improved,</td>\n",
       "      <td>[hey, speaking, new, improved]</td>\n",
       "    </tr>\n",
       "    <tr>\n",
       "      <th>14</th>\n",
       "      <td>I made some slight modifications to the time machine that we wrote at the end of last course</td>\n",
       "      <td>[made, slight, modifications, time, machine, wrote, end, last, course]</td>\n",
       "    </tr>\n",
       "    <tr>\n",
       "      <th>15</th>\n",
       "      <td>-Oh really you did ?</td>\n",
       "      <td>[oh, really, ]</td>\n",
       "    </tr>\n",
       "    <tr>\n",
       "      <th>16</th>\n",
       "      <td>-Yes, sir.</td>\n",
       "      <td>[yes, sir]</td>\n",
       "    </tr>\n",
       "    <tr>\n",
       "      <th>17</th>\n",
       "      <td>-That's exciting!</td>\n",
       "      <td>[thats, exciting]</td>\n",
       "    </tr>\n",
       "    <tr>\n",
       "      <th>18</th>\n",
       "      <td>-Right over there...</td>\n",
       "      <td>[right]</td>\n",
       "    </tr>\n",
       "    <tr>\n",
       "      <th>19</th>\n",
       "      <td>So 16th of Septembre 2016, we'll wait for you there!</td>\n",
       "      <td>[16th, septembre, 2016, well, wait]</td>\n",
       "    </tr>\n",
       "    <tr>\n",
       "      <th>20</th>\n",
       "      <td>See you in the future!</td>\n",
       "      <td>[see, future]</td>\n",
       "    </tr>\n",
       "  </tbody>\n",
       "</table>\n",
       "</div>"
      ],
      "text/plain": [
       "                                                                                              body_text  \\\n",
       "0                                                                                          Yeah really.   \n",
       "1                                                                                  Oh look who's there,   \n",
       "2                                                                         I think it's MOOC time again.   \n",
       "3               Due to the popularity of the course, we thought it would be a good idea to do a re-run.   \n",
       "4   That's right this five weeks course is gonna cover topics ranging from identifying and evaluatin...   \n",
       "5   And we will also talk about raising and managing money, value creation, value capture, profiting...   \n",
       "6   That's right! This year we're going to move to a new on-demand model so you can watch the video ...   \n",
       "7                                       And we will be including a new set of videos from entrepreneurs   \n",
       "8                                That give you additional insights on the topics covered in this course   \n",
       "9                                           Plus, as an additional benefit, we are again proud to offer   \n",
       "10                               2,500 dollars in seed funding for the top 3 performers of this course.   \n",
       "11                                    Join us from 16th of September 2016 for the new and improved MOOC   \n",
       "12                                                                               Launching New Ventures   \n",
       "13                                                                   Hey, speaking of new and improved,   \n",
       "14         I made some slight modifications to the time machine that we wrote at the end of last course   \n",
       "15                                                                                 -Oh really you did ?   \n",
       "16                                                                                           -Yes, sir.   \n",
       "17                                                                                    -That's exciting!   \n",
       "18                                                                                 -Right over there...   \n",
       "19                                                 So 16th of Septembre 2016, we'll wait for you there!   \n",
       "20                                                                               See you in the future!   \n",
       "\n",
       "                                                                                       body_text_nostop  \n",
       "0                                                                                        [yeah, really]  \n",
       "1                                                                                      [oh, look, whos]  \n",
       "2                                                                                   [think, mooc, time]  \n",
       "3                                          [due, popularity, course, thought, would, good, idea, rerun]  \n",
       "4   [thats, right, five, weeks, course, gonna, cover, topics, ranging, identifying, evaluating, busi...  \n",
       "5   [also, talk, raising, managing, money, value, creation, value, capture, profiting, innovation, a...  \n",
       "6   [thats, right, year, going, move, new, ondemand, model, watch, video, lectures, take, quizzes, e...  \n",
       "7                                                          [including, new, set, videos, entrepreneurs]  \n",
       "8                                                 [give, additional, insights, topics, covered, course]  \n",
       "9                                                             [plus, additional, benefit, proud, offer]  \n",
       "10                                           [2500, dollars, seed, funding, top, 3, performers, course]  \n",
       "11                                               [join, us, 16th, september, 2016, new, improved, mooc]  \n",
       "12                                                                           [launching, new, ventures]  \n",
       "13                                                                       [hey, speaking, new, improved]  \n",
       "14                               [made, slight, modifications, time, machine, wrote, end, last, course]  \n",
       "15                                                                                       [oh, really, ]  \n",
       "16                                                                                           [yes, sir]  \n",
       "17                                                                                    [thats, exciting]  \n",
       "18                                                                                              [right]  \n",
       "19                                                                  [16th, septembre, 2016, well, wait]  \n",
       "20                                                                                        [see, future]  "
      ]
     },
     "execution_count": 15,
     "metadata": {},
     "output_type": "execute_result"
    }
   ],
   "source": [
    "def clean_text(text):\n",
    "    text = \"\".join([word for word in text if word not in string.punctuation])\n",
    "    tokens = re.split('\\W+', text)\n",
    "    text = [word for word in tokens if word not in stopwords]\n",
    "    return text\n",
    "\n",
    "data['body_text_nostop'] = data['body_text'].apply(lambda x: clean_text(x.lower()))\n",
    "data.head(30)"
   ]
  },
  {
   "cell_type": "markdown",
   "metadata": {},
   "source": [
    "stem text"
   ]
  },
  {
   "cell_type": "code",
   "execution_count": 16,
   "metadata": {
    "collapsed": false
   },
   "outputs": [],
   "source": [
    "#def stemming(tokenized_text):\n",
    "#    text = [ps.stem(word) for word in tokenized_text]\n",
    "#    return text\n",
    "\n",
    "#data['body_text_stemmed'] = data['body_text_nostop'].apply(lambda x: stemming(x))\n",
    "\n",
    "#data.head()"
   ]
  },
  {
   "cell_type": "code",
   "execution_count": 17,
   "metadata": {
    "collapsed": false
   },
   "outputs": [
    {
     "name": "stdout",
     "output_type": "stream",
     "text": [
      "['', 'sir', 'think', 'whenever', 'money', 'last', 'videos', 'see', 'covered', 'well', 'join', 'yes', '2016', 'look', 'future', 'right', 'thought', 'also', 'wrote', 'going', 'offer', 'additional', 'move', '2500', 'take', 'evaluating', 'idea', 'oh', '16th', 'improved', 'yeah', 'give', 'capture', 'made', 'top', 'gonna', 'benefit', 'managing', 'including', 'modifications', 'identifying', 'end', 'dollars', 'would', 'topics', 'watch', 'marketing', 'launching', 'septembre', 'seed', 'plus', 'good', 'changes', 'time', 'insights', 'course', 'five', 'due', 'entrepreneurs', 'opportunities', 'funding', 'profiting', 'thats', 'like', 'rerun', 'year', 'innovation', 'value', 'speaking', 'cover', 'september', 'us', 'lectures', 'quizzes', 'talk', 'entrepreneurial', 'mooc', 'exams', 'ventures', 'new', 'proud', 'business', 'hey', 'video', 'machine', 'performers', 'set', 'pace', 'popularity', 'ondemand', 'ranging', 'slight', 'raising', 'wait', 'weeks', '3', 'really', 'creation', 'exciting', 'model', 'whos']\n"
     ]
    }
   ],
   "source": [
    "mergedlist = []\n",
    "for j in range(data.shape[0]): \n",
    "    mergedlist = list(set(data['body_text_nostop'][j] + mergedlist ))\n",
    "\n",
    "    mergedlist = [x.strip('') for x in mergedlist]\n",
    "\n",
    "#print(data.body_text[4])\n",
    "#print(data.body_text_nostop[4])\n",
    "print(mergedlist)"
   ]
  },
  {
   "cell_type": "code",
   "execution_count": null,
   "metadata": {
    "collapsed": false
   },
   "outputs": [],
   "source": [
    "import urllib\n",
    "import wikipedia as wiki\n",
    "import numpy as np\n",
    "#print(data['body_text_nostop'])\n",
    "wiki.set_lang(\"en\")\n",
    "\n",
    "print(data.body_text_nostop[4][1])\n",
    "print(data.body_text_nostop[4][2])\n",
    "print(data.body_text_nostop[4][3])\n",
    "\n",
    "#print(wiki.WikipediaPage(data.body_text_nostop[4][2]))\n",
    "\n",
    "#for i in data.body_text_nostop[4]:\n",
    "#    try:\n",
    "#        wik = wiki.WikipediaPage(i)\n",
    "#    except:\n",
    "#        wik = np.NaN\n",
    "#    print(wik)\n",
    "\n",
    "    \n",
    "#def is_wiki_search(text):\n",
    "#    wik = wiki.WikipediaPage(data.body_text_nostop[4][2])\n",
    "#    if wik is not np.NaN:\n",
    "#        return 'yes'\n",
    "#    else: \n",
    "#        return 'no'\n",
    "\n",
    "\n",
    "#print (is_wiki_search('dsd'))\n",
    "    #if wikipedia.search(data[data.body_text_nostop[1][1], results=3)"
   ]
  },
  {
   "cell_type": "code",
   "execution_count": null,
   "metadata": {
    "collapsed": false
   },
   "outputs": [],
   "source": [
    "import requests\n",
    "from bs4 import BeautifulSoup\n",
    "import urllib3 \n",
    "\n",
    "resp = requests.get('http://www.degreesofwikipedia.com/?a1=Entrepreneurship&linktype=1&a2=school&skips=&submit=1540932332%7C7555656a4f0ad2554496b639ca0090f9&currentlang=en')\n",
    "print(resp.status_code)\n",
    "#print(resp.text)\n",
    "#print(resp.content)\n",
    "html = BeautifulSoup(resp.content)\n",
    "#print(html)\n",
    "#b_tags = html.findAll('h1')\n",
    "#print(b_tags)\n",
    "degree_string = html.h1\n",
    "#print(degree_string.text)\n",
    "#br_first = BeautifulSoup.find_all('br', limit=6)[-1]\n",
    "#print (br_first)\n",
    "\n",
    "soup = degree_string.text\n",
    "result = soup.index('degrees') - 2\n",
    "print(result)\n",
    "\n",
    "#print(BeautifulSoup.find_all(\"br\", string=\"2 degrees\"))"
   ]
  },
  {
   "cell_type": "code",
   "execution_count": null,
   "metadata": {
    "collapsed": false
   },
   "outputs": [],
   "source": [
    "from urllib.request import urlopen, Request\n",
    "url = 'http://www.degreesofwikipedia.com/?a1=Entrepreneurship&linktype=1&a2=school&skips=&submit=1540932332%7C7555656a4f0ad2554496b639ca0090f9&currentlang=en'\n",
    "request = Request(url)\n",
    "response = urlopen(request)\n",
    "html = response.read()\n",
    "response.close()\n",
    "#print(html)\n",
    "\n",
    "#b_tags = html.findAll('div', attrs={'class':'sc-jKJlTe fChiJW'})\n",
    "#print(b_tags)\n",
    "\n"
   ]
  },
  {
   "cell_type": "code",
   "execution_count": null,
   "metadata": {
    "collapsed": false
   },
   "outputs": [],
   "source": [
    "import requests\n",
    "from bs4 import BeautifulSoup\n",
    "import urllib3 \n",
    "\n",
    "resp = requests.get('http://www.sixdegreesofwikipedia.com/?source=Entrepreneurship&target=school')\n",
    "#print(resp.status_code)\n",
    "print(resp.text)\n",
    "#print(resp.content)\n",
    "html = BeautifulSoup(resp.content)\n",
    "\n",
    "b_tags = html.findAll('div', attrs={'class':'sc-jKJlTe fChiJW'})\n",
    "print(b_tags)\n",
    "\n",
    "#data = resp.text\n",
    "#print(data)\n",
    "#soup = BeautifulSoup(data)\n",
    "#for link in soup.find_all('div'):\n",
    "#    print(link)\n",
    "\n",
    "\n",
    "http = urllib3.PoolManager()\n",
    "\n",
    "url = 'http://www.sixdegreesofwikipedia.com/?source=Entrepreneurship&target=school'\n",
    "\n",
    "#response = http.request('GET', url)\n",
    "#soup = BeautifulSoup(response.data)\n",
    "#print(soup)\n",
    "\n",
    "BASE_URL = \"http://www.chicagoreader.com\"\n",
    "\n",
    "def get_category_links(section_url):\n",
    "    html = urlopen(section_url).read()\n",
    "    soup = BeautifulSoup(html, \"lxml\")\n",
    "    boccat = soup.find(\"dl\", \"boccat\")\n",
    "    category_links = [BASE_URL + dd.a[\"href\"] for dd in boccat.findAll(\"dd\")]\n",
    "    return category_links\n",
    "\n",
    "#if resp.status_code != 200:\n",
    "    # This means something went wrong.\n",
    "#   raise ApiError('GET /tasks/ {}'.format(resp.status_code))\n",
    "#for todo_item in resp.json():\n",
    "#    print('{} {}'.format(todo_item['id'], todo_item['summary']))"
   ]
  },
  {
   "cell_type": "code",
   "execution_count": null,
   "metadata": {
    "collapsed": false
   },
   "outputs": [],
   "source": [
    "\n",
    "#def wiki_article_match(text):\n",
    "#    result = request.get('https://en.wikipedia.org/wiki/' + text[1])\n",
    "#    if result.status_code == 200: \n",
    "#        return 'yes'\n",
    "#    else:\n",
    "#        return 'no'\n",
    "\n",
    "#data['wiki_terms_article_match'] = data['body_text_nostop'].apply(lambda x: wiki_article_match(x))\n",
    "#data.head(30)\n",
    "\n"
   ]
  },
  {
   "cell_type": "code",
   "execution_count": null,
   "metadata": {
    "collapsed": false
   },
   "outputs": [],
   "source": [
    "#import rake\n",
    "\n",
    "# from selenium import webdriver\n",
    "# import time\n",
    " \n",
    "# options = webdriver.ChromeOptions()\n",
    "# options.add_argument('--ignore-certificate-errors')\n",
    "# options.add_argument(\"--test-type\")\n",
    "# options.binary_location = \"/usr/bin/chromium\"\n",
    "# driver = webdriver.Chrome(chrome_options=options)\n",
    "# driver.get('http://www.sixdegreesofwikipedia.com/?source=Entrepreneurship&target=school')\n",
    "\n",
    "# url = 'http://www.sixdegreesofwikipedia.com/?source=Entrepreneurship&target=school'\n",
    "\n",
    "# # click GO button\n",
    "# python_button = driver.find_elements_by_xpath(\"//input[@name='lang' and @value='Python']\")[0]\n",
    "# python_button.click()\n",
    "\n",
    "import time\n",
    "\n",
    "from selenium import webdriver\n",
    "import selenium.webdriver.chrome.service as service\n",
    "\n",
    "service = service.Service('/Users/shrutigoli/Masters_Research/chromedriver')\n",
    "service.start()\n",
    "capabilities = {'chrome.binary': '/path/to/custom/chrome'}\n",
    "driver = webdriver.Remote(service.service_url, capabilities)\n",
    "driver.get('http://www.sixdegreesofwikipedia.com/?source=Entrepreneurship&target=school');\n",
    "# Let the user actually see something!\n",
    "\n",
    "# click GO button\n",
    "#driver.find_element_by_name('sc-iAyFgw eIvUSL').click()\n",
    "#elem = driver.find_element_by_xpath('///*[@class=\"sc-iAyFgw eIvUSL\"]')\n",
    "elem = driver.findElement(By.cssSelector(“input[class='sc-iAyFgw eIvUSL'’]”))\n",
    "elem.click()\n",
    "#python_button = driver.find_elements_by_xpath(\"//input[@name='lang' and @value='Python']\")[0]\n",
    "#python_button.click()\n",
    "time.sleep(5) \n",
    "driver.quit()"
   ]
  },
  {
   "cell_type": "code",
   "execution_count": null,
   "metadata": {
    "collapsed": false
   },
   "outputs": [],
   "source": [
    "print(mergedlist)"
   ]
  },
  {
   "cell_type": "code",
   "execution_count": null,
   "metadata": {
    "collapsed": true
   },
   "outputs": [],
   "source": []
  },
  {
   "cell_type": "code",
   "execution_count": null,
   "metadata": {
    "collapsed": false
   },
   "outputs": [],
   "source": [
    "import wikipedia\n",
    "wikipedia.set_lang(\"en\")"
   ]
  },
  {
   "cell_type": "code",
   "execution_count": null,
   "metadata": {
    "collapsed": false
   },
   "outputs": [],
   "source": [
    "print(wikipedia.search(\"end\"))"
   ]
  },
  {
   "cell_type": "code",
   "execution_count": null,
   "metadata": {
    "collapsed": false
   },
   "outputs": [],
   "source": [
    "page = wikipedia.page(\"End\")\n",
    "print(page.url)"
   ]
  },
  {
   "cell_type": "code",
   "execution_count": null,
   "metadata": {
    "collapsed": false
   },
   "outputs": [],
   "source": [
    "from __future__ import print_function\n",
    "import gensim\n",
    "print(gensim.__version__)"
   ]
  },
  {
   "cell_type": "code",
   "execution_count": null,
   "metadata": {
    "collapsed": false
   },
   "outputs": [],
   "source": [
    "from __future__ import print_function\n",
    "from gensim.models import KeyedVectors\n",
    "\n",
    "# Creating the model\n",
    "en_model = KeyedVectors.load_word2vec_format('/Users/shrutigoli/Masters_Research/wiki.en/wiki.en.vec')\n",
    "\n",
    "# Getting the tokens \n",
    "words = []\n",
    "for word in en_model.vocab:\n",
    "    words.append(word)\n",
    "\n",
    "# Printing out number of tokens available\n",
    "print(\"Number of Tokens: {}\".format(len(words)))\n",
    "\n",
    "# Printing out the dimension of a word vector \n",
    "print(\"Dimension of a word vector: {}\".format(\n",
    "    len(en_model[words[0]])\n",
    "))\n",
    "\n",
    "# Print out the vector of a word \n",
    "print(\"Vector components of a word: {}\".format(\n",
    "    en_model[words[0]]\n",
    "))\n",
    "\n",
    "# Pick a word \n",
    "find_similar_to = 'car'\n",
    "\n",
    "# Finding out similar words [default= top 10]\n",
    "for similar_word in en_model.similar_by_word(find_similar_to):\n",
    "    print(\"Word: {0}, Similarity: {1:.2f}\".format(\n",
    "        similar_word[0], similar_word[1]\n",
    "    ))\n"
   ]
  },
  {
   "cell_type": "code",
   "execution_count": null,
   "metadata": {
    "collapsed": true
   },
   "outputs": [],
   "source": [
    "print(en_model.most_similar(\"man\"))"
   ]
  },
  {
   "cell_type": "code",
   "execution_count": null,
   "metadata": {
    "collapsed": true
   },
   "outputs": [],
   "source": []
  }
 ],
 "metadata": {
  "kernelspec": {
   "display_name": "Python 3",
   "language": "python",
   "name": "python3"
  },
  "language_info": {
   "codemirror_mode": {
    "name": "ipython",
    "version": 3
   },
   "file_extension": ".py",
   "mimetype": "text/x-python",
   "name": "python",
   "nbconvert_exporter": "python",
   "pygments_lexer": "ipython3",
   "version": "3.6.0"
  }
 },
 "nbformat": 4,
 "nbformat_minor": 2
}
