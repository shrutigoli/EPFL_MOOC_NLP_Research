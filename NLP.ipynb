{
 "cells": [
  {
   "cell_type": "code",
   "execution_count": 3,
   "metadata": {
    "collapsed": true
   },
   "outputs": [],
   "source": [
    "import pandas as pd\n",
    "import re\n",
    "import string\n",
    "import nltk \n",
    "ps = nltk.PorterStemmer()"
   ]
  },
  {
   "cell_type": "code",
   "execution_count": 4,
   "metadata": {
    "collapsed": false
   },
   "outputs": [
    {
     "data": {
      "text/html": [
       "<div>\n",
       "<style scoped>\n",
       "    .dataframe tbody tr th:only-of-type {\n",
       "        vertical-align: middle;\n",
       "    }\n",
       "\n",
       "    .dataframe tbody tr th {\n",
       "        vertical-align: top;\n",
       "    }\n",
       "\n",
       "    .dataframe thead th {\n",
       "        text-align: right;\n",
       "    }\n",
       "</style>\n",
       "<table border=\"1\" class=\"dataframe\">\n",
       "  <thead>\n",
       "    <tr style=\"text-align: right;\">\n",
       "      <th></th>\n",
       "      <th>body_text</th>\n",
       "    </tr>\n",
       "  </thead>\n",
       "  <tbody>\n",
       "    <tr>\n",
       "      <th>0</th>\n",
       "      <td>Yeah really.</td>\n",
       "    </tr>\n",
       "    <tr>\n",
       "      <th>1</th>\n",
       "      <td>Oh look who's there,</td>\n",
       "    </tr>\n",
       "    <tr>\n",
       "      <th>2</th>\n",
       "      <td>I think it's MOOC time again.</td>\n",
       "    </tr>\n",
       "    <tr>\n",
       "      <th>3</th>\n",
       "      <td>Due to the popularity of the course, we thought it would be a good idea to do a re-run.</td>\n",
       "    </tr>\n",
       "    <tr>\n",
       "      <th>4</th>\n",
       "      <td>That's right this five weeks course is gonna cover topics ranging from identifying and evaluatin...</td>\n",
       "    </tr>\n",
       "  </tbody>\n",
       "</table>\n",
       "</div>"
      ],
      "text/plain": [
       "                                                                                             body_text\n",
       "0                                                                                         Yeah really.\n",
       "1                                                                                 Oh look who's there,\n",
       "2                                                                        I think it's MOOC time again.\n",
       "3              Due to the popularity of the course, we thought it would be a good idea to do a re-run.\n",
       "4  That's right this five weeks course is gonna cover topics ranging from identifying and evaluatin..."
      ]
     },
     "execution_count": 4,
     "metadata": {},
     "output_type": "execute_result"
    }
   ],
   "source": [
    "pd.set_option('display.max_colwidth', 100)\n",
    "\n",
    "stopwords = nltk.corpus.stopwords.words('english')\n",
    "\n",
    "data=pd.read_csv(\"MOOC_Entrepreneurship-en.txt\",delimiter=\"\\t\")\n",
    "data.columns = ['body_text']\n",
    "\n",
    "data.head()"
   ]
  },
  {
   "cell_type": "code",
   "execution_count": 5,
   "metadata": {
    "collapsed": false
   },
   "outputs": [
    {
     "data": {
      "text/html": [
       "<div>\n",
       "<style scoped>\n",
       "    .dataframe tbody tr th:only-of-type {\n",
       "        vertical-align: middle;\n",
       "    }\n",
       "\n",
       "    .dataframe tbody tr th {\n",
       "        vertical-align: top;\n",
       "    }\n",
       "\n",
       "    .dataframe thead th {\n",
       "        text-align: right;\n",
       "    }\n",
       "</style>\n",
       "<table border=\"1\" class=\"dataframe\">\n",
       "  <thead>\n",
       "    <tr style=\"text-align: right;\">\n",
       "      <th></th>\n",
       "      <th>body_text</th>\n",
       "      <th>body_text_nostop</th>\n",
       "    </tr>\n",
       "  </thead>\n",
       "  <tbody>\n",
       "    <tr>\n",
       "      <th>0</th>\n",
       "      <td>Yeah really.</td>\n",
       "      <td>[yeah, really]</td>\n",
       "    </tr>\n",
       "    <tr>\n",
       "      <th>1</th>\n",
       "      <td>Oh look who's there,</td>\n",
       "      <td>[oh, look, whos]</td>\n",
       "    </tr>\n",
       "    <tr>\n",
       "      <th>2</th>\n",
       "      <td>I think it's MOOC time again.</td>\n",
       "      <td>[think, mooc, time]</td>\n",
       "    </tr>\n",
       "    <tr>\n",
       "      <th>3</th>\n",
       "      <td>Due to the popularity of the course, we thought it would be a good idea to do a re-run.</td>\n",
       "      <td>[due, popularity, course, thought, would, good, idea, rerun]</td>\n",
       "    </tr>\n",
       "    <tr>\n",
       "      <th>4</th>\n",
       "      <td>That's right this five weeks course is gonna cover topics ranging from identifying and evaluatin...</td>\n",
       "      <td>[thats, right, five, weeks, course, gonna, cover, topics, ranging, identifying, evaluating, busi...</td>\n",
       "    </tr>\n",
       "    <tr>\n",
       "      <th>5</th>\n",
       "      <td>And we will also talk about raising and managing money, value creation, value capture, profiting...</td>\n",
       "      <td>[also, talk, raising, managing, money, value, creation, value, capture, profiting, innovation, a...</td>\n",
       "    </tr>\n",
       "    <tr>\n",
       "      <th>6</th>\n",
       "      <td>That's right! This year we're going to move to a new on-demand model so you can watch the video ...</td>\n",
       "      <td>[thats, right, year, going, move, new, ondemand, model, watch, video, lectures, take, quizzes, e...</td>\n",
       "    </tr>\n",
       "    <tr>\n",
       "      <th>7</th>\n",
       "      <td>And we will be including a new set of videos from entrepreneurs</td>\n",
       "      <td>[including, new, set, videos, entrepreneurs]</td>\n",
       "    </tr>\n",
       "    <tr>\n",
       "      <th>8</th>\n",
       "      <td>That give you additional insights on the topics covered in this course</td>\n",
       "      <td>[give, additional, insights, topics, covered, course]</td>\n",
       "    </tr>\n",
       "    <tr>\n",
       "      <th>9</th>\n",
       "      <td>Plus, as an additional benefit, we are again proud to offer</td>\n",
       "      <td>[plus, additional, benefit, proud, offer]</td>\n",
       "    </tr>\n",
       "    <tr>\n",
       "      <th>10</th>\n",
       "      <td>2,500 dollars in seed funding for the top 3 performers of this course.</td>\n",
       "      <td>[2500, dollars, seed, funding, top, 3, performers, course]</td>\n",
       "    </tr>\n",
       "    <tr>\n",
       "      <th>11</th>\n",
       "      <td>Join us from 16th of September 2016 for the new and improved MOOC</td>\n",
       "      <td>[join, us, 16th, september, 2016, new, improved, mooc]</td>\n",
       "    </tr>\n",
       "    <tr>\n",
       "      <th>12</th>\n",
       "      <td>Launching New Ventures</td>\n",
       "      <td>[launching, new, ventures]</td>\n",
       "    </tr>\n",
       "    <tr>\n",
       "      <th>13</th>\n",
       "      <td>Hey, speaking of new and improved,</td>\n",
       "      <td>[hey, speaking, new, improved]</td>\n",
       "    </tr>\n",
       "    <tr>\n",
       "      <th>14</th>\n",
       "      <td>I made some slight modifications to the time machine that we wrote at the end of last course</td>\n",
       "      <td>[made, slight, modifications, time, machine, wrote, end, last, course]</td>\n",
       "    </tr>\n",
       "    <tr>\n",
       "      <th>15</th>\n",
       "      <td>-Oh really you did ?</td>\n",
       "      <td>[oh, really, ]</td>\n",
       "    </tr>\n",
       "    <tr>\n",
       "      <th>16</th>\n",
       "      <td>-Yes, sir.</td>\n",
       "      <td>[yes, sir]</td>\n",
       "    </tr>\n",
       "    <tr>\n",
       "      <th>17</th>\n",
       "      <td>-That's exciting!</td>\n",
       "      <td>[thats, exciting]</td>\n",
       "    </tr>\n",
       "    <tr>\n",
       "      <th>18</th>\n",
       "      <td>-Right over there...</td>\n",
       "      <td>[right]</td>\n",
       "    </tr>\n",
       "    <tr>\n",
       "      <th>19</th>\n",
       "      <td>So 16th of Septembre 2016, we'll wait for you there!</td>\n",
       "      <td>[16th, septembre, 2016, well, wait]</td>\n",
       "    </tr>\n",
       "    <tr>\n",
       "      <th>20</th>\n",
       "      <td>See you in the future!</td>\n",
       "      <td>[see, future]</td>\n",
       "    </tr>\n",
       "  </tbody>\n",
       "</table>\n",
       "</div>"
      ],
      "text/plain": [
       "                                                                                              body_text  \\\n",
       "0                                                                                          Yeah really.   \n",
       "1                                                                                  Oh look who's there,   \n",
       "2                                                                         I think it's MOOC time again.   \n",
       "3               Due to the popularity of the course, we thought it would be a good idea to do a re-run.   \n",
       "4   That's right this five weeks course is gonna cover topics ranging from identifying and evaluatin...   \n",
       "5   And we will also talk about raising and managing money, value creation, value capture, profiting...   \n",
       "6   That's right! This year we're going to move to a new on-demand model so you can watch the video ...   \n",
       "7                                       And we will be including a new set of videos from entrepreneurs   \n",
       "8                                That give you additional insights on the topics covered in this course   \n",
       "9                                           Plus, as an additional benefit, we are again proud to offer   \n",
       "10                               2,500 dollars in seed funding for the top 3 performers of this course.   \n",
       "11                                    Join us from 16th of September 2016 for the new and improved MOOC   \n",
       "12                                                                               Launching New Ventures   \n",
       "13                                                                   Hey, speaking of new and improved,   \n",
       "14         I made some slight modifications to the time machine that we wrote at the end of last course   \n",
       "15                                                                                 -Oh really you did ?   \n",
       "16                                                                                           -Yes, sir.   \n",
       "17                                                                                    -That's exciting!   \n",
       "18                                                                                 -Right over there...   \n",
       "19                                                 So 16th of Septembre 2016, we'll wait for you there!   \n",
       "20                                                                               See you in the future!   \n",
       "\n",
       "                                                                                       body_text_nostop  \n",
       "0                                                                                        [yeah, really]  \n",
       "1                                                                                      [oh, look, whos]  \n",
       "2                                                                                   [think, mooc, time]  \n",
       "3                                          [due, popularity, course, thought, would, good, idea, rerun]  \n",
       "4   [thats, right, five, weeks, course, gonna, cover, topics, ranging, identifying, evaluating, busi...  \n",
       "5   [also, talk, raising, managing, money, value, creation, value, capture, profiting, innovation, a...  \n",
       "6   [thats, right, year, going, move, new, ondemand, model, watch, video, lectures, take, quizzes, e...  \n",
       "7                                                          [including, new, set, videos, entrepreneurs]  \n",
       "8                                                 [give, additional, insights, topics, covered, course]  \n",
       "9                                                             [plus, additional, benefit, proud, offer]  \n",
       "10                                           [2500, dollars, seed, funding, top, 3, performers, course]  \n",
       "11                                               [join, us, 16th, september, 2016, new, improved, mooc]  \n",
       "12                                                                           [launching, new, ventures]  \n",
       "13                                                                       [hey, speaking, new, improved]  \n",
       "14                               [made, slight, modifications, time, machine, wrote, end, last, course]  \n",
       "15                                                                                       [oh, really, ]  \n",
       "16                                                                                           [yes, sir]  \n",
       "17                                                                                    [thats, exciting]  \n",
       "18                                                                                              [right]  \n",
       "19                                                                  [16th, septembre, 2016, well, wait]  \n",
       "20                                                                                        [see, future]  "
      ]
     },
     "execution_count": 5,
     "metadata": {},
     "output_type": "execute_result"
    }
   ],
   "source": [
    "def clean_text(text):\n",
    "    text = \"\".join([word for word in text if word not in string.punctuation])\n",
    "    tokens = re.split('\\W+', text)\n",
    "    text = [word for word in tokens if word not in stopwords]\n",
    "    return text\n",
    "\n",
    "data['body_text_nostop'] = data['body_text'].apply(lambda x: clean_text(x.lower()))\n",
    "data.head(30)"
   ]
  },
  {
   "cell_type": "code",
   "execution_count": 8,
   "metadata": {
    "collapsed": false
   },
   "outputs": [
    {
     "name": "stdout",
     "output_type": "stream",
     "text": [
      "['', 'proud', 'thought', 'managing', 'identifying', 'launching', 'watch', 'right', 'video', 'rerun', 'move', 'set', 'like', 'ventures', 'time', 'ranging', 'wrote', '2016', 'join', 'entrepreneurial', 'funding', 'sir', 'look', 'value', 'hey', 'year', 'really', 'covered', 'exciting', 'talk', 'end', 'benefit', 'take', 'exams', 'profiting', 'including', 'slight', 'give', 'future', 'innovation', 'offer', 'entrepreneurs', 'going', 'also', 'thats', 'made', 'mooc', 'improved', 'due', 'yes', 'wait', 'insights', 'weeks', 'opportunities', 'dollars', 'yeah', 'ondemand', 'plus', 'money', 'cover', '2500', 'oh', 'would', 'evaluating', 'quizzes', 'new', 'machine', 'seed', 'topics', 'lectures', 'idea', 'model', 'good', 'whenever', 'see', 'creation', 'popularity', 'speaking', '3', 'top', 'think', 'modifications', '16th', 'capture', 'five', 'last', 'well', 'pace', 'performers', 'gonna', 'us', 'raising', 'september', 'videos', 'septembre', 'whos', 'business', 'additional', 'marketing', 'changes', 'course']\n"
     ]
    }
   ],
   "source": [
    "mergedlist = []\n",
    "for j in range(data.shape[0]): \n",
    "    mergedlist = list(set(data['body_text_nostop'][j] + mergedlist ))\n",
    "\n",
    "    mergedlist = [x.strip('') for x in mergedlist]\n",
    "\n",
    "#print(data.body_text[4])\n",
    "#print(data.body_text_nostop[4])\n",
    "print(mergedlist)"
   ]
  },
  {
   "cell_type": "code",
   "execution_count": 10,
   "metadata": {
    "collapsed": false
   },
   "outputs": [
    {
     "name": "stdout",
     "output_type": "stream",
     "text": [
      "[['yeah', 'really'], ['oh', 'look', 'whos'], ['think', 'mooc', 'time'], ['due', 'popularity', 'course', 'thought', 'would', 'good', 'idea', 'rerun'], ['thats', 'right', 'five', 'weeks', 'course', 'gonna', 'cover', 'topics', 'ranging', 'identifying', 'evaluating', 'business', 'opportunities', 'entrepreneurial', 'marketing'], ['also', 'talk', 'raising', 'managing', 'money', 'value', 'creation', 'value', 'capture', 'profiting', 'innovation', 'also', 'made', 'changes'], ['thats', 'right', 'year', 'going', 'move', 'new', 'ondemand', 'model', 'watch', 'video', 'lectures', 'take', 'quizzes', 'exams', 'pace', 'whenever', 'like'], ['including', 'new', 'set', 'videos', 'entrepreneurs'], ['give', 'additional', 'insights', 'topics', 'covered', 'course'], ['plus', 'additional', 'benefit', 'proud', 'offer'], ['2500', 'dollars', 'seed', 'funding', 'top', '3', 'performers', 'course'], ['join', 'us', '16th', 'september', '2016', 'new', 'improved', 'mooc'], ['launching', 'new', 'ventures'], ['hey', 'speaking', 'new', 'improved'], ['made', 'slight', 'modifications', 'time', 'machine', 'wrote', 'end', 'last', 'course'], ['oh', 'really', ''], ['yes', 'sir'], ['thats', 'exciting'], ['right'], ['16th', 'septembre', '2016', 'well', 'wait'], ['see', 'future']]\n"
     ]
    }
   ],
   "source": [
    "sentences = data['body_text_nostop'].tolist()\n",
    "print(sentences)"
   ]
  },
  {
   "cell_type": "code",
   "execution_count": null,
   "metadata": {
    "collapsed": false
   },
   "outputs": [],
   "source": [
    "import gensim\n",
    "#model = gensim.models.Word2Vec.load_word2vec_format('ft_model.bin', binary=False)  \n",
    "#fasttext = gensim.models.Word2Vec.load_word2vec_format('/wiki.en/wiki.en.vec', binary=False)\n",
    "#from gensim.models.wrappers import FastText\n",
    "#model = FastText.load_word2vec_format('/wiki.en/wiki.en.vec', binary=False)\n",
    "\n",
    "#from gensim.models.keyedvectors import KeyedVectors\n",
    "#word_vectors = KeyedVectors.load_word2vec_format('wiki.en/wiki.en.vec', binary=True) \n",
    "\n",
    "from gensim.models.wrappers import FastText\n",
    "model = FastText.load_fasttext_format('ft_model')"
   ]
  },
  {
   "cell_type": "code",
   "execution_count": null,
   "metadata": {
    "collapsed": false
   },
   "outputs": [],
   "source": [
    "import numpy as np"
   ]
  },
  {
   "cell_type": "code",
   "execution_count": null,
   "metadata": {
    "collapsed": true
   },
   "outputs": [],
   "source": [
    "#https://stackoverflow.com/questions/23735576/gensim-train-word2vec-on-wikipedia-preprocessing-and-parameters\n",
    "\n",
    "#https://github.com/jind11/word2vec-on-wikipedia\n",
    "#https://goatwang.github.io/2017/06/06/Train-Wiki-Corpus-by-gensim-Word2vec/\n",
    "#https://www.kdnuggets.com/2018/04/robust-word2vec-models-gensim.html\n",
    "#https://medium.com/swlh/playing-with-word-vectors-308ab2faa519\n",
    "#http://ai.intelligentonlinetools.com/ml/convert-word-to-vector-glove-python/\n",
    "#http://ai.intelligentonlinetools.com/ml/text-vectors-word-embeddings-word2vec/\n",
    "\n",
    "\n"
   ]
  },
  {
   "cell_type": "code",
   "execution_count": null,
   "metadata": {
    "collapsed": true
   },
   "outputs": [],
   "source": [
    "\n",
    "\n",
    "words = []\n",
    "for word in model.vocab:\n",
    "    words.append(word)\n",
    " \n",
    "print(\"Vector components of a word: {}\".format(\n",
    "    model[words[0]]\n",
    "))"
   ]
  },
  {
   "cell_type": "code",
   "execution_count": null,
   "metadata": {
    "collapsed": true
   },
   "outputs": [],
   "source": [
    "def sent_vectorizer(sent, model):\n",
    "    sent_vec =[]\n",
    "    numw = 0\n",
    "    for w in sent:\n",
    "        try:\n",
    "            if numw == 0:\n",
    "                sent_vec = model[w]\n",
    "            else:\n",
    "                sent_vec = np.add(sent_vec, model[w])\n",
    "            numw+=1\n",
    "        except:\n",
    "            pass\n",
    "    \n",
    "    return np.asarray(sent_vec) / numw\n",
    " \n",
    "V=[]\n",
    "for sentence in sentences:\n",
    "    V.append(sent_vectorizer(sentence, model))   \n",
    "          \n",
    "     \n",
    "X_train = V[0:6]\n",
    "X_test = V[6:9] \n",
    "Y_train = [0, 0, 0, 0, 1,1]\n",
    "Y_test =  [0,1,1]    "
   ]
  },
  {
   "cell_type": "code",
   "execution_count": null,
   "metadata": {
    "collapsed": true
   },
   "outputs": [],
   "source": []
  },
  {
   "cell_type": "markdown",
   "metadata": {},
   "source": [
    "Creating a feed-forward neural network with MLP Classifier. To make this neural network, I am going to add various layers of perceptrons together. Perceptrons include the input multiplied by a weight, activation function, and output.  There will be an input layer to take in the data and output layer to create the respective outputs."
   ]
  },
  {
   "cell_type": "code",
   "execution_count": null,
   "metadata": {
    "collapsed": true
   },
   "outputs": [],
   "source": [
    "#https://www.kdnuggets.com/2018/04/robust-word2vec-models-gensim.html\n",
    "#http://ai.intelligentonlinetools.com/ml/fasttext-word-embeddings-text-classification-python-mlp/\n",
    "\n",
    "from sklearn.neural_network import MLPClassifier\n",
    "classifier = MLPClassifier(alpha = 0.7, max_iter=400) \n",
    "classifier.fit(X_train, Y_train)\n",
    " \n",
    "df_results = pd.DataFrame(data=np.zeros(shape=(1,3)), columns = ['classifier', 'train_score', 'test_score'] )\n",
    "train_score = classifier.score(X_train, Y_train)\n",
    "test_score = classifier.score(X_test, Y_test)\n",
    " \n",
    "print  (classifier.predict_proba(X_test))\n",
    "print  (classifier.predict(X_test))\n",
    " \n",
    "df_results.loc[1,'classifier'] = \"MLP\"\n",
    "df_results.loc[1,'train_score'] = train_score\n",
    "df_results.loc[1,'test_score'] = test_score\n",
    "print(df_results)"
   ]
  }
 ],
 "metadata": {
  "kernelspec": {
   "display_name": "Python 3",
   "language": "python",
   "name": "python3"
  },
  "language_info": {
   "codemirror_mode": {
    "name": "ipython",
    "version": 3
   },
   "file_extension": ".py",
   "mimetype": "text/x-python",
   "name": "python",
   "nbconvert_exporter": "python",
   "pygments_lexer": "ipython3",
   "version": "3.6.0"
  }
 },
 "nbformat": 4,
 "nbformat_minor": 2
}
