{
 "cells": [
  {
   "cell_type": "code",
   "execution_count": null,
   "metadata": {
    "collapsed": true
   },
   "outputs": [],
   "source": [
    "from gensim.models import word2vec\n",
    "#model['computer']"
   ]
  },
  {
   "cell_type": "code",
   "execution_count": 10,
   "metadata": {
    "collapsed": true
   },
   "outputs": [],
   "source": [
    "mergedlist = ['proud', 'thought', 'managing', 'identifying', 'launching', 'watch', 'right', 'video', 'rerun', 'move', 'set', 'like', 'ventures', 'time', 'ranging', 'wrote', '2016', 'join', 'entrepreneurial', 'funding', 'sir', 'look', 'value', 'hey', 'year', 'really', 'covered', 'exciting', 'talk', 'end', 'benefit', 'take', 'exams', 'profiting', 'including', 'slight', 'give', 'future', 'innovation', 'offer', 'entrepreneurs', 'going', 'also', 'thats', 'made', 'mooc', 'improved', 'due', 'yes', 'wait', 'insights', 'weeks', 'opportunities', 'dollars', 'yeah', 'ondemand', 'plus', 'money', 'cover', '2500', 'oh', 'would', 'evaluating', 'quizzes', 'new', 'machine', 'seed', 'topics', 'lectures', 'idea', 'model', 'good', 'whenever', 'see', 'creation', 'popularity', 'speaking', '3', 'top', 'think', 'modifications', '16th', 'capture', 'five', 'last', 'well', 'pace', 'performers', 'gonna', 'us', 'raising', 'september', 'videos', 'septembre', 'whos', 'business', 'additional', 'marketing', 'changes', 'course']"
   ]
  },
  {
   "cell_type": "code",
   "execution_count": 11,
   "metadata": {
    "collapsed": false
   },
   "outputs": [
    {
     "name": "stdout",
     "output_type": "stream",
     "text": [
      "['proud', 'thought', 'managing', 'identifying', 'launching', 'watch', 'right', 'video', 'rerun', 'move', 'set', 'like', 'ventures', 'time', 'ranging', 'wrote', '2016', 'join', 'entrepreneurial', 'funding', 'sir', 'look', 'value', 'hey', 'year', 'really', 'covered', 'exciting', 'talk', 'end', 'benefit', 'take', 'exams', 'profiting', 'including', 'slight', 'give', 'future', 'innovation', 'offer', 'entrepreneurs', 'going', 'also', 'thats', 'made', 'mooc', 'improved', 'due', 'yes', 'wait', 'insights', 'weeks', 'opportunities', 'dollars', 'yeah', 'ondemand', 'plus', 'money', 'cover', '2500', 'oh', 'would', 'evaluating', 'quizzes', 'new', 'machine', 'seed', 'topics', 'lectures', 'idea', 'model', 'good', 'whenever', 'see', 'creation', 'popularity', 'speaking', '3', 'top', 'think', 'modifications', '16th', 'capture', 'five', 'last', 'well', 'pace', 'performers', 'gonna', 'us', 'raising', 'september', 'videos', 'septembre', 'whos', 'business', 'additional', 'marketing', 'changes', 'course']\n"
     ]
    }
   ],
   "source": [
    "print(mergedlist)"
   ]
  },
  {
   "cell_type": "code",
   "execution_count": 21,
   "metadata": {
    "collapsed": false
   },
   "outputs": [],
   "source": [
    "from gensim.models.keyedvectors import KeyedVectors\n",
    "word_vectors = KeyedVectors.load_word2vec_format('wiki.en/wiki.en.vec', binary=False)"
   ]
  },
  {
   "cell_type": "code",
   "execution_count": 26,
   "metadata": {
    "collapsed": false
   },
   "outputs": [
    {
     "name": "stdout",
     "output_type": "stream",
     "text": [
      "<gensim.models.keyedvectors.Word2VecKeyedVectors object at 0x1ccf8a908>\n"
     ]
    }
   ],
   "source": [
    "print(word_vectors)"
   ]
  },
  {
   "cell_type": "code",
   "execution_count": 24,
   "metadata": {
    "collapsed": false
   },
   "outputs": [
    {
     "ename": "TypeError",
     "evalue": "list indices must be integers or slices, not str",
     "output_type": "error",
     "traceback": [
      "\u001b[0;31m---------------------------------------------------------------------------\u001b[0m",
      "\u001b[0;31mTypeError\u001b[0m                                 Traceback (most recent call last)",
      "\u001b[0;32m<ipython-input-24-ecbaa2cbea45>\u001b[0m in \u001b[0;36m<module>\u001b[0;34m()\u001b[0m\n\u001b[1;32m      2\u001b[0m \u001b[0mlist_to_vec\u001b[0m \u001b[0;34m=\u001b[0m \u001b[0;34m[\u001b[0m\u001b[0;34m]\u001b[0m\u001b[0;34m\u001b[0m\u001b[0m\n\u001b[1;32m      3\u001b[0m \u001b[0;32mfor\u001b[0m \u001b[0mi\u001b[0m \u001b[0;32min\u001b[0m \u001b[0mmergedlist\u001b[0m\u001b[0;34m:\u001b[0m\u001b[0;34m\u001b[0m\u001b[0m\n\u001b[0;32m----> 4\u001b[0;31m     \u001b[0ma\u001b[0m \u001b[0;34m=\u001b[0m \u001b[0mmergedlist\u001b[0m\u001b[0;34m[\u001b[0m\u001b[0mi\u001b[0m\u001b[0;34m]\u001b[0m\u001b[0;34m\u001b[0m\u001b[0m\n\u001b[0m\u001b[1;32m      5\u001b[0m     \u001b[0mlist_to_vec\u001b[0m \u001b[0;34m=\u001b[0m \u001b[0mword_vectors\u001b[0m\u001b[0;34m[\u001b[0m\u001b[0ma\u001b[0m\u001b[0;34m]\u001b[0m\u001b[0;34m\u001b[0m\u001b[0m\n",
      "\u001b[0;31mTypeError\u001b[0m: list indices must be integers or slices, not str"
     ]
    }
   ],
   "source": [
    "#converts this list to list of vectors\n",
    "list_to_vec = []\n",
    "for i in mergedlist:\n",
    "    a = mergedlist[i]\n",
    "    list_to_vec = word_vectors[a]    "
   ]
  },
  {
   "cell_type": "code",
   "execution_count": null,
   "metadata": {
    "collapsed": true
   },
   "outputs": [],
   "source": [
    "#calculating cosine similarity between word vectors\n",
    "import numpy    \n",
    "similar_words = []\n",
    "for i in mergedlist:\n",
    "    cosine_similarity = numpy.dot(model['entrepeneurship'], model[mergedlist[i]])/(numpy.linalg.norm(model['entrepeneurship'])* numpy.linalg.norm(mergedlist[i]))\n",
    "    #obtains the similarity levels to the course to filter out course-related concepts/terms\n",
    "    if (cosine_similarity > .4):\n",
    "        similar_words.append(mergedlist[i])"
   ]
  },
  {
   "cell_type": "code",
   "execution_count": null,
   "metadata": {
    "collapsed": true
   },
   "outputs": [],
   "source": []
  },
  {
   "cell_type": "code",
   "execution_count": null,
   "metadata": {
    "collapsed": true
   },
   "outputs": [],
   "source": []
  },
  {
   "cell_type": "code",
   "execution_count": null,
   "metadata": {
    "collapsed": true
   },
   "outputs": [],
   "source": []
  },
  {
   "cell_type": "code",
   "execution_count": null,
   "metadata": {
    "collapsed": true
   },
   "outputs": [],
   "source": [
    "#print(model.wv.similarity('woman', 'man'), model.wv.similarity('man', 'elephant'))"
   ]
  },
  {
   "cell_type": "code",
   "execution_count": null,
   "metadata": {
    "collapsed": false
   },
   "outputs": [],
   "source": [
    "# tokenize sentences in corpus\n",
    "#wpt = nltk.WordPunctTokenizer()\n",
    "#tokenized_corpus = [wpt.tokenize(document) for document in norm_bible]\n",
    "\n",
    "# Set values for various parameters\n",
    "#feature_size = 100    # Word vector dimensionality  \n",
    "#window_context = 30          # Context window size                                                                                    \n",
    "#min_word_count = 1   # Minimum word count                        \n",
    "#sample = 1e-3   # Downsample setting for frequent words\n",
    "\n",
    "#ft_model = word2vec.Word2Vec(tokenized_corpus, size=feature_size, \n",
    "                          window=window_context, min_count=min_word_count,\n",
    "                          sample=sample, iter=50)\n",
    "\n",
    "# view similar words based on gensim's model\n",
    "#similar_words = {search_term: [item[0] for item in ft_model.wv.most_similar([search_term], topn=5)]\n",
    "#                  for search_term in mergedlist}\n",
    "#similar_words"
   ]
  },
  {
   "cell_type": "code",
   "execution_count": null,
   "metadata": {
    "collapsed": false
   },
   "outputs": [],
   "source": []
  },
  {
   "cell_type": "markdown",
   "metadata": {},
   "source": [
    "This is the 2D representation after the vectors have been created to see how close/far they are from each other"
   ]
  },
  {
   "cell_type": "code",
   "execution_count": null,
   "metadata": {
    "collapsed": true
   },
   "outputs": [],
   "source": [
    "from sklearn.manifold import TSNE\n",
    "\n",
    "words = sum([[k] + v for k, v in similar_words.items()], [])\n",
    "wvs = model.wv[words]\n",
    "\n",
    "tsne = TSNE(n_components=2, random_state=0, n_iter=10000, perplexity=2)\n",
    "np.set_printoptions(suppress=True)\n",
    "T = tsne.fit_transform(wvs)\n",
    "labels = words\n",
    "\n",
    "plt.figure(figsize=(14, 8))\n",
    "plt.scatter(T[:, 0], T[:, 1], c='orange', edgecolors='r')\n",
    "for label, x, y in zip(labels, T[:, 0], T[:, 1]):\n",
    "    plt.annotate(label, xy=(x+1, y+1), xytext=(0, 0), textcoords='offset points')"
   ]
  },
  {
   "cell_type": "code",
   "execution_count": null,
   "metadata": {
    "collapsed": true
   },
   "outputs": [],
   "source": []
  },
  {
   "cell_type": "code",
   "execution_count": null,
   "metadata": {
    "collapsed": true
   },
   "outputs": [],
   "source": []
  }
 ],
 "metadata": {
  "kernelspec": {
   "display_name": "Python 3",
   "language": "python",
   "name": "python3"
  },
  "language_info": {
   "codemirror_mode": {
    "name": "ipython",
    "version": 3
   },
   "file_extension": ".py",
   "mimetype": "text/x-python",
   "name": "python",
   "nbconvert_exporter": "python",
   "pygments_lexer": "ipython3",
   "version": "3.6.0"
  }
 },
 "nbformat": 4,
 "nbformat_minor": 2
}
